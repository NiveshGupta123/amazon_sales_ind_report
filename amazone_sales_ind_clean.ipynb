{
 "cells": [
  {
   "cell_type": "code",
   "execution_count": 32,
   "id": "f0526aab-1e3e-43d3-b6f5-f9fc781504c6",
   "metadata": {},
   "outputs": [],
   "source": [
    "# Data cleaning and processing by python"
   ]
  },
  {
   "cell_type": "code",
   "execution_count": 27,
   "id": "e460ffa2-3f72-48a1-a51d-64b3cee4aff4",
   "metadata": {},
   "outputs": [],
   "source": [
    "import numpy as np\n",
    "import pandas as pd\n",
    "import openpyxl\n",
    "import matplotlib.pyplot as plt # visualizing data\n",
    "%matplotlib inline\n",
    "import seaborn as sns"
   ]
  },
  {
   "cell_type": "code",
   "execution_count": 33,
   "id": "a60b66d2-e42a-411a-afcd-3a0ba1b6c9fb",
   "metadata": {},
   "outputs": [
    {
     "name": "stderr",
     "output_type": "stream",
     "text": [
      "C:\\Users\\my pc\\AppData\\Local\\Temp\\ipykernel_9780\\1163970167.py:1: DtypeWarning: Columns (23) have mixed types. Specify dtype option on import or set low_memory=False.\n",
      "  df = pd.read_csv(r\"C:\\Users\\my pc\\DATA analysis project\\amazon_sales_ind_analysis\\Amazon Sale Report.csv\",sep=',',  index_col=False )\n"
     ]
    }
   ],
   "source": [
    "df = pd.read_csv(r\"C:\\Users\\my pc\\DATA analysis project\\amazon_sales_ind_analysis\\Amazon Sale Report.csv\",sep=',',  index_col=False )\n",
    "# to avoid encoding error, use 'unicode_escape'"
   ]
  },
  {
   "cell_type": "code",
   "execution_count": 7,
   "id": "d6585ce7-692c-4b6c-9662-cb6dadfbd8be",
   "metadata": {},
   "outputs": [
    {
     "data": {
      "text/plain": [
       "(128975, 24)"
      ]
     },
     "execution_count": 7,
     "metadata": {},
     "output_type": "execute_result"
    }
   ],
   "source": [
    "df.shape"
   ]
  },
  {
   "cell_type": "code",
   "execution_count": 10,
   "id": "a282baf8-3553-4662-b8bd-87f0bc65a097",
   "metadata": {},
   "outputs": [
    {
     "data": {
      "text/html": [
       "<div>\n",
       "<style scoped>\n",
       "    .dataframe tbody tr th:only-of-type {\n",
       "        vertical-align: middle;\n",
       "    }\n",
       "\n",
       "    .dataframe tbody tr th {\n",
       "        vertical-align: top;\n",
       "    }\n",
       "\n",
       "    .dataframe thead th {\n",
       "        text-align: right;\n",
       "    }\n",
       "</style>\n",
       "<table border=\"1\" class=\"dataframe\">\n",
       "  <thead>\n",
       "    <tr style=\"text-align: right;\">\n",
       "      <th></th>\n",
       "      <th>index</th>\n",
       "      <th>Order ID</th>\n",
       "      <th>Date</th>\n",
       "      <th>Status</th>\n",
       "      <th>Fulfilment</th>\n",
       "      <th>Sales Channel</th>\n",
       "      <th>ship-service-level</th>\n",
       "      <th>Style</th>\n",
       "      <th>SKU</th>\n",
       "      <th>Category</th>\n",
       "      <th>...</th>\n",
       "      <th>currency</th>\n",
       "      <th>Amount</th>\n",
       "      <th>ship-city</th>\n",
       "      <th>ship-state</th>\n",
       "      <th>ship-postal-code</th>\n",
       "      <th>ship-country</th>\n",
       "      <th>promotion-ids</th>\n",
       "      <th>B2B</th>\n",
       "      <th>fulfilled-by</th>\n",
       "      <th>Unnamed: 22</th>\n",
       "    </tr>\n",
       "  </thead>\n",
       "  <tbody>\n",
       "    <tr>\n",
       "      <th>0</th>\n",
       "      <td>0</td>\n",
       "      <td>405-8078784-5731545</td>\n",
       "      <td>04-30-22</td>\n",
       "      <td>Cancelled</td>\n",
       "      <td>Merchant</td>\n",
       "      <td>Amazon.in</td>\n",
       "      <td>Standard</td>\n",
       "      <td>SET389</td>\n",
       "      <td>SET389-KR-NP-S</td>\n",
       "      <td>Set</td>\n",
       "      <td>...</td>\n",
       "      <td>INR</td>\n",
       "      <td>647.62</td>\n",
       "      <td>MUMBAI</td>\n",
       "      <td>MAHARASHTRA</td>\n",
       "      <td>400081.0</td>\n",
       "      <td>IN</td>\n",
       "      <td>NaN</td>\n",
       "      <td>False</td>\n",
       "      <td>Easy Ship</td>\n",
       "      <td>NaN</td>\n",
       "    </tr>\n",
       "    <tr>\n",
       "      <th>1</th>\n",
       "      <td>1</td>\n",
       "      <td>171-9198151-1101146</td>\n",
       "      <td>04-30-22</td>\n",
       "      <td>Shipped - Delivered to Buyer</td>\n",
       "      <td>Merchant</td>\n",
       "      <td>Amazon.in</td>\n",
       "      <td>Standard</td>\n",
       "      <td>JNE3781</td>\n",
       "      <td>JNE3781-KR-XXXL</td>\n",
       "      <td>kurta</td>\n",
       "      <td>...</td>\n",
       "      <td>INR</td>\n",
       "      <td>406.0</td>\n",
       "      <td>BENGALURU</td>\n",
       "      <td>KARNATAKA</td>\n",
       "      <td>560085.0</td>\n",
       "      <td>IN</td>\n",
       "      <td>Amazon PLCC Free-Financing Universal Merchant ...</td>\n",
       "      <td>False</td>\n",
       "      <td>Easy Ship</td>\n",
       "      <td>NaN</td>\n",
       "    </tr>\n",
       "    <tr>\n",
       "      <th>2</th>\n",
       "      <td>2</td>\n",
       "      <td>404-0687676-7273146</td>\n",
       "      <td>04-30-22</td>\n",
       "      <td>Shipped</td>\n",
       "      <td>Amazon</td>\n",
       "      <td>Amazon.in</td>\n",
       "      <td>Expedited</td>\n",
       "      <td>JNE3371</td>\n",
       "      <td>JNE3371-KR-XL</td>\n",
       "      <td>kurta</td>\n",
       "      <td>...</td>\n",
       "      <td>INR</td>\n",
       "      <td>329.0</td>\n",
       "      <td>NAVI MUMBAI</td>\n",
       "      <td>MAHARASHTRA</td>\n",
       "      <td>410210.0</td>\n",
       "      <td>IN</td>\n",
       "      <td>IN Core Free Shipping 2015/04/08 23-48-5-108</td>\n",
       "      <td>True</td>\n",
       "      <td>NaN</td>\n",
       "      <td>NaN</td>\n",
       "    </tr>\n",
       "    <tr>\n",
       "      <th>3</th>\n",
       "      <td>3</td>\n",
       "      <td>403-9615377-8133951</td>\n",
       "      <td>04-30-22</td>\n",
       "      <td>Cancelled</td>\n",
       "      <td>Merchant</td>\n",
       "      <td>Amazon.in</td>\n",
       "      <td>Standard</td>\n",
       "      <td>J0341</td>\n",
       "      <td>J0341-DR-L</td>\n",
       "      <td>Western Dress</td>\n",
       "      <td>...</td>\n",
       "      <td>INR</td>\n",
       "      <td>753.33</td>\n",
       "      <td>PUDUCHERRY</td>\n",
       "      <td>PUDUCHERRY</td>\n",
       "      <td>605008.0</td>\n",
       "      <td>IN</td>\n",
       "      <td>NaN</td>\n",
       "      <td>False</td>\n",
       "      <td>Easy Ship</td>\n",
       "      <td>NaN</td>\n",
       "    </tr>\n",
       "    <tr>\n",
       "      <th>4</th>\n",
       "      <td>4</td>\n",
       "      <td>407-1069790-7240320</td>\n",
       "      <td>04-30-22</td>\n",
       "      <td>Shipped</td>\n",
       "      <td>Amazon</td>\n",
       "      <td>Amazon.in</td>\n",
       "      <td>Expedited</td>\n",
       "      <td>JNE3671</td>\n",
       "      <td>JNE3671-TU-XXXL</td>\n",
       "      <td>Top</td>\n",
       "      <td>...</td>\n",
       "      <td>INR</td>\n",
       "      <td>574.0</td>\n",
       "      <td>CHENNAI</td>\n",
       "      <td>TAMIL NADU</td>\n",
       "      <td>600073.0</td>\n",
       "      <td>IN</td>\n",
       "      <td>NaN</td>\n",
       "      <td>False</td>\n",
       "      <td>NaN</td>\n",
       "      <td>NaN</td>\n",
       "    </tr>\n",
       "  </tbody>\n",
       "</table>\n",
       "<p>5 rows × 24 columns</p>\n",
       "</div>"
      ],
      "text/plain": [
       "  index             Order ID      Date                        Status  \\\n",
       "0     0  405-8078784-5731545  04-30-22                     Cancelled   \n",
       "1     1  171-9198151-1101146  04-30-22  Shipped - Delivered to Buyer   \n",
       "2     2  404-0687676-7273146  04-30-22                       Shipped   \n",
       "3     3  403-9615377-8133951  04-30-22                     Cancelled   \n",
       "4     4  407-1069790-7240320  04-30-22                       Shipped   \n",
       "\n",
       "  Fulfilment Sales Channel  ship-service-level    Style              SKU  \\\n",
       "0   Merchant      Amazon.in           Standard   SET389   SET389-KR-NP-S   \n",
       "1   Merchant      Amazon.in           Standard  JNE3781  JNE3781-KR-XXXL   \n",
       "2     Amazon      Amazon.in          Expedited  JNE3371    JNE3371-KR-XL   \n",
       "3   Merchant      Amazon.in           Standard    J0341       J0341-DR-L   \n",
       "4     Amazon      Amazon.in          Expedited  JNE3671  JNE3671-TU-XXXL   \n",
       "\n",
       "        Category  ... currency  Amount    ship-city   ship-state  \\\n",
       "0            Set  ...      INR  647.62       MUMBAI  MAHARASHTRA   \n",
       "1          kurta  ...      INR   406.0    BENGALURU    KARNATAKA   \n",
       "2          kurta  ...      INR   329.0  NAVI MUMBAI  MAHARASHTRA   \n",
       "3  Western Dress  ...      INR  753.33   PUDUCHERRY   PUDUCHERRY   \n",
       "4            Top  ...      INR   574.0      CHENNAI   TAMIL NADU   \n",
       "\n",
       "  ship-postal-code ship-country  \\\n",
       "0         400081.0           IN   \n",
       "1         560085.0           IN   \n",
       "2         410210.0           IN   \n",
       "3         605008.0           IN   \n",
       "4         600073.0           IN   \n",
       "\n",
       "                                       promotion-ids    B2B fulfilled-by  \\\n",
       "0                                                NaN  False    Easy Ship   \n",
       "1  Amazon PLCC Free-Financing Universal Merchant ...  False    Easy Ship   \n",
       "2       IN Core Free Shipping 2015/04/08 23-48-5-108   True          NaN   \n",
       "3                                                NaN  False    Easy Ship   \n",
       "4                                                NaN  False          NaN   \n",
       "\n",
       "  Unnamed: 22  \n",
       "0         NaN  \n",
       "1         NaN  \n",
       "2         NaN  \n",
       "3         NaN  \n",
       "4         NaN  \n",
       "\n",
       "[5 rows x 24 columns]"
      ]
     },
     "execution_count": 10,
     "metadata": {},
     "output_type": "execute_result"
    }
   ],
   "source": [
    "df.head()"
   ]
  },
  {
   "cell_type": "code",
   "execution_count": 8,
   "id": "d3c0c7ef-e00d-4e8a-8207-7139b552e7e2",
   "metadata": {},
   "outputs": [
    {
     "name": "stdout",
     "output_type": "stream",
     "text": [
      "<class 'pandas.core.frame.DataFrame'>\n",
      "RangeIndex: 128975 entries, 0 to 128974\n",
      "Data columns (total 24 columns):\n",
      " #   Column              Non-Null Count   Dtype  \n",
      "---  ------              --------------   -----  \n",
      " 0   index               128975 non-null  int64  \n",
      " 1   Order ID            128975 non-null  object \n",
      " 2   Date                128975 non-null  object \n",
      " 3   Status              128975 non-null  object \n",
      " 4   Fulfilment          128975 non-null  object \n",
      " 5   Sales Channel       128975 non-null  object \n",
      " 6   ship-service-level  128975 non-null  object \n",
      " 7   Style               128975 non-null  object \n",
      " 8   SKU                 128975 non-null  object \n",
      " 9   Category            128975 non-null  object \n",
      " 10  Size                128975 non-null  object \n",
      " 11  ASIN                128975 non-null  object \n",
      " 12  Courier Status      122103 non-null  object \n",
      " 13  Qty                 128975 non-null  int64  \n",
      " 14  currency            121180 non-null  object \n",
      " 15  Amount              121180 non-null  float64\n",
      " 16  ship-city           128942 non-null  object \n",
      " 17  ship-state          128942 non-null  object \n",
      " 18  ship-postal-code    128942 non-null  float64\n",
      " 19  ship-country        128942 non-null  object \n",
      " 20  promotion-ids       79822 non-null   object \n",
      " 21  B2B                 128975 non-null  bool   \n",
      " 22  fulfilled-by        39277 non-null   object \n",
      " 23  Unnamed: 22         79925 non-null   object \n",
      "dtypes: bool(1), float64(2), int64(2), object(19)\n",
      "memory usage: 22.8+ MB\n"
     ]
    }
   ],
   "source": [
    "df.info()"
   ]
  },
  {
   "cell_type": "code",
   "execution_count": 11,
   "id": "1feb3de0-325e-444e-868e-ddb1ad78c3b7",
   "metadata": {},
   "outputs": [
    {
     "data": {
      "text/plain": [
       "index                 0\n",
       "Order ID              0\n",
       "Date                  0\n",
       "Status                0\n",
       "Fulfilment            0\n",
       "Sales Channel         0\n",
       "ship-service-level    0\n",
       "Style                 0\n",
       "SKU                   0\n",
       "Category              0\n",
       "Size                  0\n",
       "ASIN                  0\n",
       "Courier Status        0\n",
       "Qty                   0\n",
       "currency              0\n",
       "Amount                0\n",
       "ship-city             0\n",
       "ship-state            0\n",
       "ship-postal-code      0\n",
       "ship-country          0\n",
       "promotion-ids         0\n",
       "B2B                   0\n",
       "fulfilled-by          0\n",
       "Unnamed: 22           0\n",
       "dtype: int64"
      ]
     },
     "execution_count": 11,
     "metadata": {},
     "output_type": "execute_result"
    }
   ],
   "source": [
    "# check for null values\n",
    "pd.isnull(df).sum()"
   ]
  },
  {
   "cell_type": "code",
   "execution_count": 13,
   "id": "1bface94-3f1b-4369-a1b2-df8f9abf0840",
   "metadata": {},
   "outputs": [
    {
     "data": {
      "text/plain": [
       "(128975, 24)"
      ]
     },
     "execution_count": 13,
     "metadata": {},
     "output_type": "execute_result"
    }
   ],
   "source": [
    "df.shape\n"
   ]
  },
  {
   "cell_type": "code",
   "execution_count": 12,
   "id": "42909b40-30d5-4eaf-95c4-f6e975058b7c",
   "metadata": {},
   "outputs": [],
   "source": [
    "# drop null values\n",
    "df.dropna(inplace=True)"
   ]
  },
  {
   "cell_type": "code",
   "execution_count": 13,
   "id": "c7717014-c952-44d6-b118-727803dc34a9",
   "metadata": {},
   "outputs": [
    {
     "data": {
      "text/plain": [
       "(19379, 24)"
      ]
     },
     "execution_count": 13,
     "metadata": {},
     "output_type": "execute_result"
    }
   ],
   "source": [
    "df.shape"
   ]
  },
  {
   "cell_type": "code",
   "execution_count": 14,
   "id": "d56fc7ec-6bd4-48d8-a139-7cd69f5385d6",
   "metadata": {},
   "outputs": [
    {
     "data": {
      "text/plain": [
       "index                 0\n",
       "Order ID              0\n",
       "Date                  0\n",
       "Status                0\n",
       "Fulfilment            0\n",
       "Sales Channel         0\n",
       "ship-service-level    0\n",
       "Style                 0\n",
       "SKU                   0\n",
       "Category              0\n",
       "Size                  0\n",
       "ASIN                  0\n",
       "Courier Status        0\n",
       "Qty                   0\n",
       "currency              0\n",
       "Amount                0\n",
       "ship-city             0\n",
       "ship-state            0\n",
       "ship-postal-code      0\n",
       "ship-country          0\n",
       "promotion-ids         0\n",
       "B2B                   0\n",
       "fulfilled-by          0\n",
       "Unnamed: 22           0\n",
       "dtype: int64"
      ]
     },
     "execution_count": 14,
     "metadata": {},
     "output_type": "execute_result"
    }
   ],
   "source": [
    "pd.isnull(df).sum()\n"
   ]
  },
  {
   "cell_type": "code",
   "execution_count": 15,
   "id": "32b7a9c3-fc34-4fd1-98f5-3aa04426859c",
   "metadata": {},
   "outputs": [],
   "source": [
    "# drop the nan values\n",
    "df = df.dropna()\n"
   ]
  },
  {
   "cell_type": "code",
   "execution_count": 17,
   "id": "2aba511e-2827-4c0e-a7cd-6112f1c2e433",
   "metadata": {},
   "outputs": [
    {
     "name": "stdout",
     "output_type": "stream",
     "text": [
      "         index             Order ID      Date                        Status  \\\n",
      "49051    49051  408-4858463-2356347  05-31-22  Shipped - Delivered to Buyer   \n",
      "49077    49077  402-7697834-2682766  05-31-22  Shipped - Delivered to Buyer   \n",
      "49081    49081  402-7031777-0396341  05-31-22  Shipped - Delivered to Buyer   \n",
      "49082    49082  408-1235521-4337163  05-31-22  Shipped - Delivered to Buyer   \n",
      "49083    49083  403-3845187-4421165  05-31-22  Shipped - Delivered to Buyer   \n",
      "...        ...                  ...       ...                           ...   \n",
      "128872  128872  405-4724097-1016369  06-01-22  Shipped - Delivered to Buyer   \n",
      "128873  128873  405-4724097-1016369  06-01-22  Shipped - Delivered to Buyer   \n",
      "128874  128874  405-4724097-1016369  06-01-22  Shipped - Delivered to Buyer   \n",
      "128887  128887  405-6493630-8542756  05-31-22  Shipped - Delivered to Buyer   \n",
      "128891  128891  403-0317423-9322704  05-31-22  Shipped - Delivered to Buyer   \n",
      "\n",
      "       Fulfilment Sales Channel  ship-service-level    Style             SKU  \\\n",
      "49051    Merchant      Amazon.in           Standard    J0385      J0385-KR-M   \n",
      "49077    Merchant      Amazon.in           Standard  JNE3654  JNE3654-TP-XXL   \n",
      "49081    Merchant      Amazon.in           Standard  JNE3798   JNE3798-KR-XS   \n",
      "49082    Merchant      Amazon.in           Standard    J0152      J0152-DR-L   \n",
      "49083    Merchant      Amazon.in           Standard    J0157     J0157-DR-XL   \n",
      "...           ...            ...                ...      ...             ...   \n",
      "128872   Merchant      Amazon.in           Standard    J0243      J0243-DR-S   \n",
      "128873   Merchant      Amazon.in           Standard    J0079     J0079-SKD-S   \n",
      "128874   Merchant      Amazon.in           Standard    J0009     J0009-SKD-S   \n",
      "128887   Merchant      Amazon.in           Standard    J0301      J0301-TP-M   \n",
      "128891   Merchant      Amazon.in           Standard  JNE3869    JNE3869-DR-M   \n",
      "\n",
      "             Category  ... currency  Amount         ship-city  \\\n",
      "49051           kurta  ...      INR   888.0       RAJAHMUNDRY   \n",
      "49077             Top  ...      INR   371.0           CHENNAI   \n",
      "49081   Western Dress  ...      INR   771.0        NEDUMANGAD   \n",
      "49082   Western Dress  ...      INR     0.0               LEH   \n",
      "49083   Western Dress  ...      INR   690.0  PIMPRI CHINCHWAD   \n",
      "...               ...  ...      ...     ...               ...   \n",
      "128872   Ethnic Dress  ...      INR   999.0             ALLUR   \n",
      "128873            Set  ...      INR  1523.0             ALLUR   \n",
      "128874            Set  ...      INR   854.0             ALLUR   \n",
      "128887            Top  ...      INR   518.0             NOIDA   \n",
      "128891  Western Dress  ...      INR   721.0    UTTAR BAGDOGRA   \n",
      "\n",
      "             ship-state ship-postal-code  ship-country  \\\n",
      "49051    ANDHRA PRADESH         533126.0            IN   \n",
      "49077        TAMIL NADU         600042.0            IN   \n",
      "49081            KERALA         695541.0            IN   \n",
      "49082   JAMMU & KASHMIR         194101.0            IN   \n",
      "49083       MAHARASHTRA         411027.0            IN   \n",
      "...                 ...              ...           ...   \n",
      "128872   ANDHRA PRADESH         524315.0            IN   \n",
      "128873   ANDHRA PRADESH         524315.0            IN   \n",
      "128874   ANDHRA PRADESH         524315.0            IN   \n",
      "128887    UTTAR PRADESH         201301.0            IN   \n",
      "128891      WEST BENGAL         734014.0            IN   \n",
      "\n",
      "                                            promotion-ids    B2B  \\\n",
      "49051   Amazon PLCC Free-Financing Universal Merchant ...  False   \n",
      "49077   Amazon PLCC Free-Financing Universal Merchant ...  False   \n",
      "49081   Amazon PLCC Free-Financing Universal Merchant ...  False   \n",
      "49082   Amazon PLCC Free-Financing Universal Merchant ...  False   \n",
      "49083   Amazon PLCC Free-Financing Universal Merchant ...  False   \n",
      "...                                                   ...    ...   \n",
      "128872  Amazon PLCC Free-Financing Universal Merchant ...  False   \n",
      "128873  Amazon PLCC Free-Financing Universal Merchant ...  False   \n",
      "128874  Amazon PLCC Free-Financing Universal Merchant ...  False   \n",
      "128887  Amazon PLCC Free-Financing Universal Merchant ...  False   \n",
      "128891  Amazon PLCC Free-Financing Universal Merchant ...  False   \n",
      "\n",
      "        fulfilled-by Unnamed: 22  \n",
      "49051      Easy Ship       False  \n",
      "49077      Easy Ship       False  \n",
      "49081      Easy Ship       False  \n",
      "49082      Easy Ship       False  \n",
      "49083      Easy Ship       False  \n",
      "...              ...         ...  \n",
      "128872     Easy Ship       False  \n",
      "128873     Easy Ship       False  \n",
      "128874     Easy Ship       False  \n",
      "128887     Easy Ship       False  \n",
      "128891     Easy Ship       False  \n",
      "\n",
      "[19379 rows x 24 columns]\n"
     ]
    }
   ],
   "source": [
    "print(df)\n"
   ]
  },
  {
   "cell_type": "code",
   "execution_count": 18,
   "id": "fbc403da-3c29-47c5-b4ed-f6f78070124c",
   "metadata": {},
   "outputs": [
    {
     "data": {
      "text/plain": [
       "Index(['index', 'Order ID', 'Date', 'Status', 'Fulfilment', 'Sales Channel ',\n",
       "       'ship-service-level', 'Style', 'SKU', 'Category', 'Size', 'ASIN',\n",
       "       'Courier Status', 'Qty', 'currency', 'Amount', 'ship-city',\n",
       "       'ship-state', 'ship-postal-code', 'ship-country', 'promotion-ids',\n",
       "       'B2B', 'fulfilled-by', 'Unnamed: 22'],\n",
       "      dtype='object')"
      ]
     },
     "execution_count": 18,
     "metadata": {},
     "output_type": "execute_result"
    }
   ],
   "source": [
    "#convert to data type\n",
    "df.columns"
   ]
  },
  {
   "cell_type": "code",
   "execution_count": 19,
   "id": "a3e9a437-86d5-4333-8dec-ab8670ff1ff2",
   "metadata": {},
   "outputs": [],
   "source": [
    "df['Amount'] = df['Amount'].astype(int)"
   ]
  },
  {
   "cell_type": "code",
   "execution_count": 20,
   "id": "e231ba2f-c53d-4516-97ab-fbe1e2b29f4b",
   "metadata": {},
   "outputs": [
    {
     "data": {
      "text/plain": [
       "<bound method DataFrame.info of          index             Order ID      Date                        Status  \\\n",
       "49051    49051  408-4858463-2356347  05-31-22  Shipped - Delivered to Buyer   \n",
       "49077    49077  402-7697834-2682766  05-31-22  Shipped - Delivered to Buyer   \n",
       "49081    49081  402-7031777-0396341  05-31-22  Shipped - Delivered to Buyer   \n",
       "49082    49082  408-1235521-4337163  05-31-22  Shipped - Delivered to Buyer   \n",
       "49083    49083  403-3845187-4421165  05-31-22  Shipped - Delivered to Buyer   \n",
       "...        ...                  ...       ...                           ...   \n",
       "128872  128872  405-4724097-1016369  06-01-22  Shipped - Delivered to Buyer   \n",
       "128873  128873  405-4724097-1016369  06-01-22  Shipped - Delivered to Buyer   \n",
       "128874  128874  405-4724097-1016369  06-01-22  Shipped - Delivered to Buyer   \n",
       "128887  128887  405-6493630-8542756  05-31-22  Shipped - Delivered to Buyer   \n",
       "128891  128891  403-0317423-9322704  05-31-22  Shipped - Delivered to Buyer   \n",
       "\n",
       "       Fulfilment Sales Channel  ship-service-level    Style             SKU  \\\n",
       "49051    Merchant      Amazon.in           Standard    J0385      J0385-KR-M   \n",
       "49077    Merchant      Amazon.in           Standard  JNE3654  JNE3654-TP-XXL   \n",
       "49081    Merchant      Amazon.in           Standard  JNE3798   JNE3798-KR-XS   \n",
       "49082    Merchant      Amazon.in           Standard    J0152      J0152-DR-L   \n",
       "49083    Merchant      Amazon.in           Standard    J0157     J0157-DR-XL   \n",
       "...           ...            ...                ...      ...             ...   \n",
       "128872   Merchant      Amazon.in           Standard    J0243      J0243-DR-S   \n",
       "128873   Merchant      Amazon.in           Standard    J0079     J0079-SKD-S   \n",
       "128874   Merchant      Amazon.in           Standard    J0009     J0009-SKD-S   \n",
       "128887   Merchant      Amazon.in           Standard    J0301      J0301-TP-M   \n",
       "128891   Merchant      Amazon.in           Standard  JNE3869    JNE3869-DR-M   \n",
       "\n",
       "             Category  ... currency Amount         ship-city       ship-state  \\\n",
       "49051           kurta  ...      INR    888       RAJAHMUNDRY   ANDHRA PRADESH   \n",
       "49077             Top  ...      INR    371           CHENNAI       TAMIL NADU   \n",
       "49081   Western Dress  ...      INR    771        NEDUMANGAD           KERALA   \n",
       "49082   Western Dress  ...      INR      0               LEH  JAMMU & KASHMIR   \n",
       "49083   Western Dress  ...      INR    690  PIMPRI CHINCHWAD      MAHARASHTRA   \n",
       "...               ...  ...      ...    ...               ...              ...   \n",
       "128872   Ethnic Dress  ...      INR    999             ALLUR   ANDHRA PRADESH   \n",
       "128873            Set  ...      INR   1523             ALLUR   ANDHRA PRADESH   \n",
       "128874            Set  ...      INR    854             ALLUR   ANDHRA PRADESH   \n",
       "128887            Top  ...      INR    518             NOIDA    UTTAR PRADESH   \n",
       "128891  Western Dress  ...      INR    721    UTTAR BAGDOGRA      WEST BENGAL   \n",
       "\n",
       "       ship-postal-code  ship-country  \\\n",
       "49051          533126.0            IN   \n",
       "49077          600042.0            IN   \n",
       "49081          695541.0            IN   \n",
       "49082          194101.0            IN   \n",
       "49083          411027.0            IN   \n",
       "...                 ...           ...   \n",
       "128872         524315.0            IN   \n",
       "128873         524315.0            IN   \n",
       "128874         524315.0            IN   \n",
       "128887         201301.0            IN   \n",
       "128891         734014.0            IN   \n",
       "\n",
       "                                            promotion-ids    B2B  \\\n",
       "49051   Amazon PLCC Free-Financing Universal Merchant ...  False   \n",
       "49077   Amazon PLCC Free-Financing Universal Merchant ...  False   \n",
       "49081   Amazon PLCC Free-Financing Universal Merchant ...  False   \n",
       "49082   Amazon PLCC Free-Financing Universal Merchant ...  False   \n",
       "49083   Amazon PLCC Free-Financing Universal Merchant ...  False   \n",
       "...                                                   ...    ...   \n",
       "128872  Amazon PLCC Free-Financing Universal Merchant ...  False   \n",
       "128873  Amazon PLCC Free-Financing Universal Merchant ...  False   \n",
       "128874  Amazon PLCC Free-Financing Universal Merchant ...  False   \n",
       "128887  Amazon PLCC Free-Financing Universal Merchant ...  False   \n",
       "128891  Amazon PLCC Free-Financing Universal Merchant ...  False   \n",
       "\n",
       "        fulfilled-by Unnamed: 22  \n",
       "49051      Easy Ship       False  \n",
       "49077      Easy Ship       False  \n",
       "49081      Easy Ship       False  \n",
       "49082      Easy Ship       False  \n",
       "49083      Easy Ship       False  \n",
       "...              ...         ...  \n",
       "128872     Easy Ship       False  \n",
       "128873     Easy Ship       False  \n",
       "128874     Easy Ship       False  \n",
       "128887     Easy Ship       False  \n",
       "128891     Easy Ship       False  \n",
       "\n",
       "[19379 rows x 24 columns]>"
      ]
     },
     "execution_count": 20,
     "metadata": {},
     "output_type": "execute_result"
    }
   ],
   "source": [
    "df.info\n"
   ]
  },
  {
   "cell_type": "code",
   "execution_count": 21,
   "id": "c91f70ad-6aca-4674-825b-4b4c8a14fd46",
   "metadata": {},
   "outputs": [
    {
     "name": "stdout",
     "output_type": "stream",
     "text": [
      "<class 'pandas.core.frame.DataFrame'>\n",
      "Index: 19379 entries, 49051 to 128891\n",
      "Data columns (total 24 columns):\n",
      " #   Column              Non-Null Count  Dtype  \n",
      "---  ------              --------------  -----  \n",
      " 0   index               19379 non-null  int64  \n",
      " 1   Order ID            19379 non-null  object \n",
      " 2   Date                19379 non-null  object \n",
      " 3   Status              19379 non-null  object \n",
      " 4   Fulfilment          19379 non-null  object \n",
      " 5   Sales Channel       19379 non-null  object \n",
      " 6   ship-service-level  19379 non-null  object \n",
      " 7   Style               19379 non-null  object \n",
      " 8   SKU                 19379 non-null  object \n",
      " 9   Category            19379 non-null  object \n",
      " 10  Size                19379 non-null  object \n",
      " 11  ASIN                19379 non-null  object \n",
      " 12  Courier Status      19379 non-null  object \n",
      " 13  Qty                 19379 non-null  int64  \n",
      " 14  currency            19379 non-null  object \n",
      " 15  Amount              19379 non-null  int32  \n",
      " 16  ship-city           19379 non-null  object \n",
      " 17  ship-state          19379 non-null  object \n",
      " 18  ship-postal-code    19379 non-null  float64\n",
      " 19  ship-country        19379 non-null  object \n",
      " 20  promotion-ids       19379 non-null  object \n",
      " 21  B2B                 19379 non-null  bool   \n",
      " 22  fulfilled-by        19379 non-null  object \n",
      " 23  Unnamed: 22         19379 non-null  object \n",
      "dtypes: bool(1), float64(1), int32(1), int64(2), object(19)\n",
      "memory usage: 3.5+ MB\n"
     ]
    }
   ],
   "source": [
    "df.info()\n"
   ]
  },
  {
   "cell_type": "code",
   "execution_count": 22,
   "id": "9966d358-5eca-411f-a1b3-df6be06509f4",
   "metadata": {},
   "outputs": [
    {
     "data": {
      "text/html": [
       "<div>\n",
       "<style scoped>\n",
       "    .dataframe tbody tr th:only-of-type {\n",
       "        vertical-align: middle;\n",
       "    }\n",
       "\n",
       "    .dataframe tbody tr th {\n",
       "        vertical-align: top;\n",
       "    }\n",
       "\n",
       "    .dataframe thead th {\n",
       "        text-align: right;\n",
       "    }\n",
       "</style>\n",
       "<table border=\"1\" class=\"dataframe\">\n",
       "  <thead>\n",
       "    <tr style=\"text-align: right;\">\n",
       "      <th></th>\n",
       "      <th>index</th>\n",
       "      <th>Qty</th>\n",
       "      <th>Amount</th>\n",
       "      <th>ship-postal-code</th>\n",
       "    </tr>\n",
       "  </thead>\n",
       "  <tbody>\n",
       "    <tr>\n",
       "      <th>count</th>\n",
       "      <td>19379.000000</td>\n",
       "      <td>19379.000000</td>\n",
       "      <td>19379.000000</td>\n",
       "      <td>19379.000000</td>\n",
       "    </tr>\n",
       "    <tr>\n",
       "      <th>mean</th>\n",
       "      <td>86650.405542</td>\n",
       "      <td>1.004799</td>\n",
       "      <td>673.245162</td>\n",
       "      <td>464618.933743</td>\n",
       "    </tr>\n",
       "    <tr>\n",
       "      <th>std</th>\n",
       "      <td>22204.535858</td>\n",
       "      <td>0.082081</td>\n",
       "      <td>287.866514</td>\n",
       "      <td>191536.937504</td>\n",
       "    </tr>\n",
       "    <tr>\n",
       "      <th>min</th>\n",
       "      <td>49051.000000</td>\n",
       "      <td>1.000000</td>\n",
       "      <td>0.000000</td>\n",
       "      <td>110001.000000</td>\n",
       "    </tr>\n",
       "    <tr>\n",
       "      <th>25%</th>\n",
       "      <td>67813.000000</td>\n",
       "      <td>1.000000</td>\n",
       "      <td>471.000000</td>\n",
       "      <td>380058.000000</td>\n",
       "    </tr>\n",
       "    <tr>\n",
       "      <th>50%</th>\n",
       "      <td>83317.000000</td>\n",
       "      <td>1.000000</td>\n",
       "      <td>678.000000</td>\n",
       "      <td>500032.000000</td>\n",
       "    </tr>\n",
       "    <tr>\n",
       "      <th>75%</th>\n",
       "      <td>105153.500000</td>\n",
       "      <td>1.000000</td>\n",
       "      <td>786.000000</td>\n",
       "      <td>600039.000000</td>\n",
       "    </tr>\n",
       "    <tr>\n",
       "      <th>max</th>\n",
       "      <td>128891.000000</td>\n",
       "      <td>5.000000</td>\n",
       "      <td>2796.000000</td>\n",
       "      <td>855107.000000</td>\n",
       "    </tr>\n",
       "  </tbody>\n",
       "</table>\n",
       "</div>"
      ],
      "text/plain": [
       "               index           Qty        Amount  ship-postal-code\n",
       "count   19379.000000  19379.000000  19379.000000      19379.000000\n",
       "mean    86650.405542      1.004799    673.245162     464618.933743\n",
       "std     22204.535858      0.082081    287.866514     191536.937504\n",
       "min     49051.000000      1.000000      0.000000     110001.000000\n",
       "25%     67813.000000      1.000000    471.000000     380058.000000\n",
       "50%     83317.000000      1.000000    678.000000     500032.000000\n",
       "75%    105153.500000      1.000000    786.000000     600039.000000\n",
       "max    128891.000000      5.000000   2796.000000     855107.000000"
      ]
     },
     "execution_count": 22,
     "metadata": {},
     "output_type": "execute_result"
    }
   ],
   "source": [
    "df.describe()"
   ]
  },
  {
   "cell_type": "code",
   "execution_count": 23,
   "id": "1ab69e77-4336-497e-aa96-31b334879afc",
   "metadata": {},
   "outputs": [
    {
     "data": {
      "text/html": [
       "<div>\n",
       "<style scoped>\n",
       "    .dataframe tbody tr th:only-of-type {\n",
       "        vertical-align: middle;\n",
       "    }\n",
       "\n",
       "    .dataframe tbody tr th {\n",
       "        vertical-align: top;\n",
       "    }\n",
       "\n",
       "    .dataframe thead th {\n",
       "        text-align: right;\n",
       "    }\n",
       "</style>\n",
       "<table border=\"1\" class=\"dataframe\">\n",
       "  <thead>\n",
       "    <tr style=\"text-align: right;\">\n",
       "      <th></th>\n",
       "      <th>Amount</th>\n",
       "      <th>Qty</th>\n",
       "    </tr>\n",
       "  </thead>\n",
       "  <tbody>\n",
       "    <tr>\n",
       "      <th>count</th>\n",
       "      <td>19379.000000</td>\n",
       "      <td>19379.000000</td>\n",
       "    </tr>\n",
       "    <tr>\n",
       "      <th>mean</th>\n",
       "      <td>673.245162</td>\n",
       "      <td>1.004799</td>\n",
       "    </tr>\n",
       "    <tr>\n",
       "      <th>std</th>\n",
       "      <td>287.866514</td>\n",
       "      <td>0.082081</td>\n",
       "    </tr>\n",
       "    <tr>\n",
       "      <th>min</th>\n",
       "      <td>0.000000</td>\n",
       "      <td>1.000000</td>\n",
       "    </tr>\n",
       "    <tr>\n",
       "      <th>25%</th>\n",
       "      <td>471.000000</td>\n",
       "      <td>1.000000</td>\n",
       "    </tr>\n",
       "    <tr>\n",
       "      <th>50%</th>\n",
       "      <td>678.000000</td>\n",
       "      <td>1.000000</td>\n",
       "    </tr>\n",
       "    <tr>\n",
       "      <th>75%</th>\n",
       "      <td>786.000000</td>\n",
       "      <td>1.000000</td>\n",
       "    </tr>\n",
       "    <tr>\n",
       "      <th>max</th>\n",
       "      <td>2796.000000</td>\n",
       "      <td>5.000000</td>\n",
       "    </tr>\n",
       "  </tbody>\n",
       "</table>\n",
       "</div>"
      ],
      "text/plain": [
       "             Amount           Qty\n",
       "count  19379.000000  19379.000000\n",
       "mean     673.245162      1.004799\n",
       "std      287.866514      0.082081\n",
       "min        0.000000      1.000000\n",
       "25%      471.000000      1.000000\n",
       "50%      678.000000      1.000000\n",
       "75%      786.000000      1.000000\n",
       "max     2796.000000      5.000000"
      ]
     },
     "execution_count": 23,
     "metadata": {},
     "output_type": "execute_result"
    }
   ],
   "source": [
    "df[['Amount','Qty']].describe()"
   ]
  },
  {
   "cell_type": "code",
   "execution_count": 24,
   "id": "e88dfd40-ba07-4f0d-9590-2abb30c35a88",
   "metadata": {},
   "outputs": [],
   "source": [
    "df.drop_duplicates(inplace=True)# remove duplicates"
   ]
  },
  {
   "cell_type": "code",
   "execution_count": 25,
   "id": "a30592e0-9d54-49a2-a67c-a3ccca437717",
   "metadata": {},
   "outputs": [],
   "source": [
    "df.fillna(value = 0, inplace = True)#Fill missing values with 0 "
   ]
  },
  {
   "cell_type": "code",
   "execution_count": 31,
   "id": "bb608a07-b53b-4960-853c-13c6459bf26c",
   "metadata": {},
   "outputs": [
    {
     "data": {
      "text/plain": [
       "(19379, 24)"
      ]
     },
     "execution_count": 31,
     "metadata": {},
     "output_type": "execute_result"
    }
   ],
   "source": [
    "df.shape"
   ]
  },
  {
   "cell_type": "code",
   "execution_count": 29,
   "id": "01b540ec-a673-439c-b79b-51e84f99a48b",
   "metadata": {},
   "outputs": [],
   "source": [
    "#saving the cleaned file for further use\n",
    "df.to_csv('Cleaned amazon sales ind', index=False)"
   ]
  },
  {
   "cell_type": "code",
   "execution_count": null,
   "id": "95dba555-a064-4caf-8733-3c8abee38981",
   "metadata": {},
   "outputs": [],
   "source": []
  }
 ],
 "metadata": {
  "kernelspec": {
   "display_name": "Python 3 (ipykernel)",
   "language": "python",
   "name": "python3"
  },
  "language_info": {
   "codemirror_mode": {
    "name": "ipython",
    "version": 3
   },
   "file_extension": ".py",
   "mimetype": "text/x-python",
   "name": "python",
   "nbconvert_exporter": "python",
   "pygments_lexer": "ipython3",
   "version": "3.11.5"
  }
 },
 "nbformat": 4,
 "nbformat_minor": 5
}
